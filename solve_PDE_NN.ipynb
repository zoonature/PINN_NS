{
 "cells": [
  {
   "cell_type": "code",
   "execution_count": null,
   "metadata": {},
   "outputs": [],
   "source": [
    "import numpy as np\n",
    "import torch\n",
    "import torch.nn as nn\n",
    "import torch.optim as optim\n",
    "import matplotlib.pyplot as plt"
   ]
  },
  {
   "cell_type": "code",
   "execution_count": null,
   "metadata": {},
   "outputs": [],
   "source": [
    "# Burgers 방정식의 PINN 모델 정의\n",
    "class BurgersPINN(nn.Module):\n",
    "    def __init__(self):\n",
    "        super(BurgersPINN, self).__init__()\n",
    "        self.model = nn.Sequential(\n",
    "            nn.Linear(2, 50), nn.ReLU(),\n",
    "            nn.Linear(50, 50), nn.ReLU(),\n",
    "            nn.Linear(50, 50), nn.ReLU(),\n",
    "            nn.Linear(50, 50), nn.ReLU(),\n",
    "            nn.Linear(50, 50), nn.ReLU(),\n",
    "            nn.Linear(50, 1)\n",
    "        )\n",
    "\n",
    "    def forward(self, x, t):\n",
    "        input_data = torch.cat((x, t), dim=1)\n",
    "        return self.model(input_data)"
   ]
  },
  {
   "cell_type": "code",
   "execution_count": null,
   "metadata": {},
   "outputs": [],
   "source": [
    "# 초기 조건 함수\n",
    "def initial_condition(x):\n",
    "    return -np.sin(np.pi * x)\n",
    "\n",
    "# 경계 조건 함수\n",
    "def boundary_condition(x, t):\n",
    "    return np.zeros_like(x)\n",
    "\n",
    "# Burgers 방정식 정의\n",
    "def burgers_equation(u, x, t):\n",
    "    u_x = torch.autograd.grad(u, x, torch.ones_like(u), create_graph=True, allow_unused=True)[0]\n",
    "    u_t = torch.autograd.grad(u, t, torch.ones_like(t), create_graph=True, allow_unused=True)[0]\n",
    "    #u_xx = torch.autograd.grad(u_x, x, torch.ones_like(u_x), create_graph=True, allow_unused=True)[0]\n",
    "\n",
    "    return u_t + u * u_x"
   ]
  },
  {
   "cell_type": "code",
   "execution_count": null,
   "metadata": {},
   "outputs": [],
   "source": [
    "# PINN 학습 함수\n",
    "def train_PINN(model, x_initial, t_initial, x_boundary, t_boundary, x_collocation, t_collocation, epochs, learning_rate):\n",
    "    optimizer = optim.Adam(model.parameters(), lr=learning_rate)\n",
    "    loss_fn = nn.MSELoss()\n",
    "\n",
    "    for epoch in range(epochs):\n",
    "        optimizer.zero_grad()\n",
    "\n",
    "        x_initial_tensor, t_initial_tensor, x_boundary_tensor, t_boundary_tensor = (\n",
    "            torch.tensor(x, dtype=torch.float32, requires_grad=True) for x in\n",
    "            [x_initial, t_initial, x_boundary, t_boundary]\n",
    "        )\n",
    "\n",
    "        u_initial_pred, u_boundary_pred = (\n",
    "            model(x, t) for x, t in\n",
    "            [(x_initial_tensor, t_initial_tensor), (x_boundary_tensor, t_boundary_tensor)]\n",
    "        )\n",
    "\n",
    "        u_initial_exact, u_boundary_exact = (\n",
    "            torch.tensor(u, dtype=torch.float32) for u in [initial_condition(x_initial), boundary_condition(x_boundary, t_boundary)]\n",
    "        )\n",
    "\n",
    "        loss = loss_fn(u_initial_pred, u_initial_exact) + loss_fn(u_boundary_pred, u_boundary_exact)\n",
    "\n",
    "        # 랜덤한 Collocation points 생성\n",
    "        idx = np.random.choice(len(x_collocation), size=100, replace=False)\n",
    "        x_collocation_batch = x_collocation[idx]\n",
    "        t_collocation_batch = t_collocation[idx]\n",
    "\n",
    "        x_collocation_tensor, t_collocation_tensor = (\n",
    "            torch.tensor(x_collocation_batch, dtype=torch.float32, requires_grad=True) for x_collocation_batch in\n",
    "            [x_collocation_batch, t_collocation_batch]\n",
    "        )\n",
    "\n",
    "        u_collocation_pred = model(x_collocation_tensor, t_collocation_tensor)\n",
    "\n",
    "        equation_residual = burgers_equation(u_collocation_pred, x_collocation_tensor, t_collocation_tensor)\n",
    "        loss += loss_fn(equation_residual, torch.zeros_like(equation_residual))\n",
    "\n",
    "        loss.backward()\n",
    "        optimizer.step()\n",
    "\n",
    "        if epoch % 100 == 0:\n",
    "            print(f\"Epoch [{epoch}/{epochs}], Loss: {loss.item()}\")\n",
    "\n",
    "    print(\"Training completed.\")"
   ]
  },
  {
   "cell_type": "code",
   "execution_count": null,
   "metadata": {},
   "outputs": [],
   "source": [
    "# 학습 데이터 생성\n",
    "x_initial = np.linspace(0, 1, 100).reshape(-1, 1)\n",
    "t_initial = np.zeros_like(x_initial)\n",
    "x_boundary = np.linspace(0, 1, 100).reshape(-1, 1)\n",
    "t_boundary = np.linspace(0, 1, 100).reshape(-1, 1)\n",
    "x_collocation = np.random.uniform(0, 1, size=(1000, 1))\n",
    "t_collocation = np.random.uniform(0, 1, size=(1000, 1))\n",
    "\n",
    "# 모델 생성 및 학습\n",
    "model = BurgersPINN()\n",
    "train_PINN(model, x_initial, t_initial, x_boundary, t_boundary, x_collocation, t_collocation, epochs=10000, learning_rate=0.001)\n"
   ]
  },
  {
   "cell_type": "code",
   "execution_count": null,
   "metadata": {},
   "outputs": [],
   "source": [
    "# 결과 시각화\n",
    "X_visualize, T_visualize = np.meshgrid(np.linspace(0, 1, 100), np.linspace(0, 1, 100))\n",
    "X_visualize_tensor = torch.tensor(X_visualize, dtype=torch.float32)\n",
    "T_visualize_tensor = torch.tensor(T_visualize, dtype=torch.float32)\n",
    "\n",
    "\n",
    "# 데이터를 1D로 변환\n",
    "X_visualize_flat = X_visualize_tensor.view(-1)\n",
    "T_visualize_flat = T_visualize_tensor.view(-1)\n",
    "\n",
    "u_visualize = model(X_visualize_flat.view(-1, 1), T_visualize_flat.view(-1, 1)).detach().numpy()\n",
    "\n",
    "plt.figure(figsize=(10, 6))\n",
    "plt.pcolormesh(T_visualize, X_visualize, u_visualize.reshape(100, 100), cmap='viridis')\n",
    "plt.scatter(t_collocation, x_collocation, c=\"red\", marker='.')\n",
    "plt.colorbar(label='u(x,t)')\n",
    "plt.xlabel('t')\n",
    "plt.ylabel('x')\n",
    "plt.title('Burgers Equation Solution')\n",
    "plt.show()"
   ]
  },
  {
   "cell_type": "code",
   "execution_count": null,
   "metadata": {},
   "outputs": [],
   "source": []
  }
 ],
 "metadata": {
  "kernelspec": {
   "display_name": "Python 3",
   "language": "python",
   "name": "python3"
  },
  "language_info": {
   "codemirror_mode": {
    "name": "ipython",
    "version": 3
   },
   "file_extension": ".py",
   "mimetype": "text/x-python",
   "name": "python",
   "nbconvert_exporter": "python",
   "pygments_lexer": "ipython3",
   "version": "3.8.0"
  }
 },
 "nbformat": 4,
 "nbformat_minor": 4
}
